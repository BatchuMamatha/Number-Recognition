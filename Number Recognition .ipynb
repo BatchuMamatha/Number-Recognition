{
 "cells": [
  {
   "cell_type": "code",
   "execution_count": 2,
   "id": "f278ade2",
   "metadata": {},
   "outputs": [],
   "source": [
    "import numpy as np\n",
    "import matplotlib.pyplot as plt\n",
    "from tensorflow.keras.datasets import mnist\n",
    "from tensorflow.keras.models import Sequential\n",
    "from tensorflow.keras.layers import Dense, Flatten\n",
    "from tensorflow.keras.utils import to_categorical\n",
    "\n",
    "# Load the MNIST dataset\n",
    "(X_train, y_train), (X_test, y_test) = mnist.load_data()"
   ]
  },
  {
   "cell_type": "code",
   "execution_count": 10,
   "id": "b3092af4",
   "metadata": {},
   "outputs": [
    {
     "name": "stdout",
     "output_type": "stream",
     "text": [
      "Training data shape: (60000, 28, 28)\n",
      "Testing data shape: (10000, 28, 28)\n"
     ]
    },
    {
     "data": {
      "image/png": "[encoded data removed]",
      "text/plain": [
       "<Figure size 640x480 with 1 Axes>"
      ]
     },
     "metadata": {},
     "output_type": "display_data"
    }
   ],
   "source": [
    "# Check the shape of the data\n",
    "print(\"Training data shape:\", X_train.shape)  # (60000, 28, 28)\n",
    "print(\"Testing data shape:\", X_test.shape)    # (10000, 28, 28)\n",
    "\n",
    "# Display a sample image\n",
    "plt.imshow(X_train[0], cmap='gray')\n",
    "plt.title(\"Label: \" + str(y_train[0]))\n",
    "plt.show()\n"
   ]
  },
  {
   "cell_type": "code",
   "execution_count": 4,
   "id": "98e671e3",
   "metadata": {},
   "outputs": [],
   "source": [
    "# Normalize the pixel values to be between 0 and 1\n",
    "X_train = X_train.astype('float32') / 255\n",
    "X_test = X_test.astype('float32') / 255\n",
    "\n",
    "# One-hot encode the labels\n",
    "y_train = to_categorical(y_train, 10)\n",
    "y_test = to_categorical(y_test, 10)\n"
   ]
  },
  {
   "cell_type": "code",
   "execution_count": 5,
   "id": "80d94e1f",
   "metadata": {},
   "outputs": [],
   "source": [
    "model = Sequential()\n",
    "model.add(Flatten(input_shape=(28, 28)))  # Flatten the 28x28 image to a 1D vector\n",
    "model.add(Dense(128, activation='relu'))\n",
    "model.add(Dense(64, activation='relu'))\n",
    "model.add(Dense(10, activation='softmax'))  # Output layer with 10 neurons for 10 classes (0-9)\n",
    "model.compile(optimizer='adam', loss='categorical_crossentropy', metrics=['accuracy'])\n"
   ]
  },
  {
   "cell_type": "code",
   "execution_count": 6,
   "id": "28f437df",
   "metadata": {},
   "outputs": [
    {
     "name": "stdout",
     "output_type": "stream",
     "text": [
      "Epoch 1/10\n",
      "422/422 [==============================] - 4s 4ms/step - loss: 0.3466 - accuracy: 0.9029 - val_loss: 0.1349 - val_accuracy: 0.9620\n",
      "Epoch 2/10\n",
      "422/422 [==============================] - 1s 3ms/step - loss: 0.1391 - accuracy: 0.9586 - val_loss: 0.1082 - val_accuracy: 0.9702\n",
      "Epoch 3/10\n",
      "422/422 [==============================] - 1s 3ms/step - loss: 0.0960 - accuracy: 0.9705 - val_loss: 0.0942 - val_accuracy: 0.9737\n",
      "Epoch 4/10\n",
      "422/422 [==============================] - 1s 3ms/step - loss: 0.0725 - accuracy: 0.9780 - val_loss: 0.0936 - val_accuracy: 0.9722\n",
      "Epoch 5/10\n",
      "422/422 [==============================] - 1s 3ms/step - loss: 0.0576 - accuracy: 0.9822 - val_loss: 0.0807 - val_accuracy: 0.9755\n",
      "Epoch 6/10\n",
      "422/422 [==============================] - 1s 3ms/step - loss: 0.0470 - accuracy: 0.9857 - val_loss: 0.0787 - val_accuracy: 0.9758\n",
      "Epoch 7/10\n",
      "422/422 [==============================] - 1s 3ms/step - loss: 0.0361 - accuracy: 0.9893 - val_loss: 0.0832 - val_accuracy: 0.9767\n",
      "Epoch 8/10\n",
      "422/422 [==============================] - 1s 3ms/step - loss: 0.0298 - accuracy: 0.9912 - val_loss: 0.0894 - val_accuracy: 0.9770\n",
      "Epoch 9/10\n",
      "422/422 [==============================] - 1s 3ms/step - loss: 0.0253 - accuracy: 0.9925 - val_loss: 0.0946 - val_accuracy: 0.9762\n",
      "Epoch 10/10\n",
      "422/422 [==============================] - 1s 3ms/step - loss: 0.0227 - accuracy: 0.9930 - val_loss: 0.0795 - val_accuracy: 0.9800\n"
     ]
    }
   ],
   "source": [
    "history = model.fit(X_train, y_train, epochs=10, batch_size=128, validation_split=0.1)"
   ]
  },
  {
   "cell_type": "code",
   "execution_count": 7,
   "id": "ea0dfeff",
   "metadata": {},
   "outputs": [
    {
     "name": "stdout",
     "output_type": "stream",
     "text": [
      "313/313 [==============================] - 0s 1ms/step - loss: 0.0817 - accuracy: 0.9764\n",
      "Test Accuracy: 0.9764000177383423\n"
     ]
    }
   ],
   "source": [
    "test_loss, test_accuracy = model.evaluate(X_test, y_test)\n",
    "print(\"Test Accuracy:\", test_accuracy)"
   ]
  },
  {
   "cell_type": "code",
   "execution_count": 8,
   "id": "846cb614",
   "metadata": {},
   "outputs": [
    {
     "name": "stdout",
     "output_type": "stream",
     "text": [
      "1/1 [==============================] - 0s 92ms/step\n"
     ]
    },
    {
     "data": {
      "image/png": "[encoded data removed]",
      "text/plain": [
       "<Figure size 640x480 with 1 Axes>"
      ]
     },
     "metadata": {},
     "output_type": "display_data"
    }
   ],
   "source": [
    "# Predict on some test samples\n",
    "sample_index = 0\n",
    "prediction = model.predict(X_test[sample_index].reshape(1, 28, 28))\n",
    "predicted_label = np.argmax(prediction)\n",
    "\n",
    "plt.imshow(X_test[sample_index], cmap='gray')\n",
    "plt.title(\"Predicted Label: \" + str(predicted_label))\n",
    "plt.show()"
   ]
  }
 ],
 "metadata": {
  "kernelspec": {
   "display_name": "Python 3 (ipykernel)",
   "language": "python",
   "name": "python3"
  },
  "language_info": {
   "codemirror_mode": {
    "name": "ipython",
    "version": 3
   },
   "file_extension": ".py",
   "mimetype": "text/x-python",
   "name": "python",
   "nbconvert_exporter": "python",
   "pygments_lexer": "ipython3",
   "version": "3.10.9"
  }
 },
 "nbformat": 4,
 "nbformat_minor": 5
}
